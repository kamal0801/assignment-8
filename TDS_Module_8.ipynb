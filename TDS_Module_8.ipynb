{
  "cells": [
    {
      "cell_type": "code",
      "execution_count": null,
      "metadata": {
        "colab": {
          "base_uri": "https://localhost:8080/"
        },
        "id": "rt9nL0QY8Qdb",
        "outputId": "d6717b54-c9f7-4987-ad4e-de63f9995820"
      },
      "outputs": [
        {
          "name": "stdout",
          "output_type": "stream",
          "text": [
            "\u001b[K     |████████████████████████████████| 10.3 MB 14.0 MB/s \n",
            "\u001b[K     |████████████████████████████████| 164 kB 49.0 MB/s \n",
            "\u001b[K     |████████████████████████████████| 237 kB 56.6 MB/s \n",
            "\u001b[K     |████████████████████████████████| 78 kB 6.9 MB/s \n",
            "\u001b[K     |████████████████████████████████| 4.7 MB 41.0 MB/s \n",
            "\u001b[K     |████████████████████████████████| 182 kB 66.2 MB/s \n",
            "\u001b[K     |████████████████████████████████| 62 kB 1.2 MB/s \n",
            "\u001b[K     |████████████████████████████████| 51 kB 6.8 MB/s \n",
            "\u001b[?25h  Building wheel for validators (setup.py) ... \u001b[?25l\u001b[?25hdone\n"
          ]
        }
      ],
      "source": [
        "!pip install -q streamlit"
      ]
    },
    {
      "cell_type": "code",
      "execution_count": null,
      "metadata": {
        "colab": {
          "base_uri": "https://localhost:8080/"
        },
        "id": "WI8T5IMV9B2I",
        "outputId": "a54eaab4-34bb-48eb-a10f-9d60d662e2aa"
      },
      "outputs": [
        {
          "name": "stdout",
          "output_type": "stream",
          "text": [
            "--2022-11-28 15:58:30--  https://bin.equinox.io/c/4VmDzA7iaHb/ngrok-stable-linux-amd64.zip\n",
            "Resolving bin.equinox.io (bin.equinox.io)... 54.237.133.81, 54.161.241.46, 18.205.222.128, ...\n",
            "Connecting to bin.equinox.io (bin.equinox.io)|54.237.133.81|:443... connected.\n",
            "HTTP request sent, awaiting response... 200 OK\n",
            "Length: 13832437 (13M) [application/octet-stream]\n",
            "Saving to: ‘ngrok-stable-linux-amd64.zip’\n",
            "\n",
            "ngrok-stable-linux- 100%[===================>]  13.19M  3.30MB/s    in 7.0s    \n",
            "\n",
            "2022-11-28 15:58:37 (1.88 MB/s) - ‘ngrok-stable-linux-amd64.zip’ saved [13832437/13832437]\n",
            "\n"
          ]
        }
      ],
      "source": [
        "!wget https://bin.equinox.io/c/4VmDzA7iaHb/ngrok-stable-linux-amd64.zip"
      ]
    },
    {
      "cell_type": "code",
      "execution_count": null,
      "metadata": {
        "colab": {
          "base_uri": "https://localhost:8080/"
        },
        "id": "-y2yWZ2K9l8Q",
        "outputId": "c0fe1973-aa8b-4038-d624-c359a046c1ca"
      },
      "outputs": [
        {
          "name": "stdout",
          "output_type": "stream",
          "text": [
            "Archive:  ngrok-stable-linux-amd64.zip\n",
            "  inflating: ngrok                   \n"
          ]
        }
      ],
      "source": [
        "!unzip ngrok-stable-linux-amd64.zip"
      ]
    },
    {
      "cell_type": "code",
      "execution_count": null,
      "metadata": {
        "colab": {
          "base_uri": "https://localhost:8080/"
        },
        "id": "AbayZb-T9rID",
        "outputId": "357a371a-1b47-4e77-9dc7-83a1ab610f52"
      },
      "outputs": [
        {
          "name": "stdout",
          "output_type": "stream",
          "text": [
            "Authtoken saved to configuration file: /root/.ngrok2/ngrok.yml\n"
          ]
        }
      ],
      "source": [
        "!/content/ngrok authtoken 2IBOKjz6eQftrPryyxCUhPyVzBq_gX7TYEgdqbr37Z7GJqYr"
      ]
    },
    {
      "cell_type": "code",
      "execution_count": null,
      "metadata": {
        "id": "p37tZ-jp_B1S"
      },
      "outputs": [],
      "source": [
        "get_ipython().system_raw('./ngrok http 8501 &')\n"
      ]
    },
    {
      "cell_type": "code",
      "execution_count": null,
      "metadata": {
        "colab": {
          "base_uri": "https://localhost:8080/"
        },
        "id": "9tcHHxyQ_VMZ",
        "outputId": "04961c54-ff53-4429-820a-917e44656742"
      },
      "outputs": [
        {
          "name": "stdout",
          "output_type": "stream",
          "text": [
            "execute the next cell and go to the following url: https://022b-34-90-216-70.ngrok.io\n"
          ]
        }
      ],
      "source": [
        "!curl -s http://localhost:4040/api/tunnels |python3 -c \\\n",
        "'import sys,json; print(\"execute the next cell and go to the following url: \"+json.load(sys.stdin)[\"tunnels\"][0][\"public_url\"])'"
      ]
    },
    {
      "cell_type": "code",
      "execution_count": null,
      "metadata": {
        "colab": {
          "background_save": true,
          "base_uri": "https://localhost:8080/"
        },
        "id": "xdgEV9GFAm-c",
        "outputId": "7d812abf-e009-4860-df43-2d8aced54180"
      },
      "outputs": [
        {
          "metadata": {
            "tags": null
          },
          "name": "stdout",
          "output_type": "stream",
          "text": [
            "\n",
            "Collecting usage statistics. To deactivate, set browser.gatherUsageStats to False.\n",
            "\u001b[0m\n",
            "\u001b[0m\n",
            "\u001b[34m\u001b[1m  You can now view your Streamlit app in your browser.\u001b[0m\n",
            "\u001b[0m\n",
            "\u001b[34m  Network URL: \u001b[0m\u001b[1mhttp://172.28.0.2:8501\u001b[0m\n",
            "\u001b[34m  External URL: \u001b[0m\u001b[1mhttp://34.90.216.70:8501\u001b[0m\n",
            "\u001b[0m\n",
            "2022-11-28 16:29:15.556 Uncaught app exception\n",
            "Traceback (most recent call last):\n",
            "  File \"/usr/local/lib/python3.7/dist-packages/streamlit/runtime/scriptrunner/script_runner.py\", line 564, in _run_script\n",
            "    exec(code, module.__dict__)\n",
            "  File \"/content/app.py\", line 18, in <module>\n",
            "    df = user_input_features()\n",
            "  File \"/content/app.py\", line 14, in user_input_features\n",
            "    features = pd.Dataframe(data,index=[0])\n",
            "  File \"/usr/local/lib/python3.7/dist-packages/pandas/__init__.py\", line 244, in __getattr__\n",
            "    raise AttributeError(f\"module 'pandas' has no attribute '{name}'\")\n",
            "AttributeError: module 'pandas' has no attribute 'Dataframe'\n",
            "2022-11-28 16:29:33.359 Uncaught app exception\n",
            "Traceback (most recent call last):\n",
            "  File \"/usr/local/lib/python3.7/dist-packages/streamlit/runtime/scriptrunner/script_runner.py\", line 564, in _run_script\n",
            "    exec(code, module.__dict__)\n",
            "  File \"/content/app.py\", line 18, in <module>\n",
            "    df = user_input_features()\n",
            "  File \"/content/app.py\", line 14, in user_input_features\n",
            "    features = pd.Dataframe(data,index=[0])\n",
            "  File \"/usr/local/lib/python3.7/dist-packages/pandas/__init__.py\", line 244, in __getattr__\n",
            "    raise AttributeError(f\"module 'pandas' has no attribute '{name}'\")\n",
            "AttributeError: module 'pandas' has no attribute 'Dataframe'\n"
          ]
        }
      ],
      "source": [
        "!streamlit run /content/app.py"
      ]
    }
  ],
  "metadata": {
    "colab": {
      "provenance": []
    },
    "kernelspec": {
      "display_name": "Python 3",
      "name": "python3"
    },
    "language_info": {
      "name": "python"
    }
  },
  "nbformat": 4,
  "nbformat_minor": 0
}